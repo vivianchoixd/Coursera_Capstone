{
    "cells": [
        {
            "cell_type": "markdown",
            "metadata": {
                "collapsed": true
            },
            "source": "# COURSERA CAPSTONE NOTEBOOK\n## Alternative NASDAQ stock price predictor"
        },
        {
            "attachments": {},
            "cell_type": "markdown",
            "metadata": {},
            "source": "#### Background:\n\nI never quite understood how stock prices work. When I go on websites to read about stock quotes, it\u2019s common for me to look at historical prices and graphs that show trends of prices. However, there are often other information of the stock, for example dividend yield, volume, etc. which I am never quite able to wrap my mind around how these indices affect the price. This project aims to analyse stock quotes of the components in US NASDAQ and see how well a model predicts prices using indices other than historical prices."
        },
        {
            "cell_type": "markdown",
            "metadata": {},
            "source": "#### Data Description:\n\nI would use the yfinance library ticker module to obtain information of stocks in NASDAQ-100.\n"
        },
        {
            "cell_type": "markdown",
            "metadata": {},
            "source": "#### Methodology:\n\nI would import the information dictionary into a pandas DataFrame and clean the irrelevant information. The remaining data, namely the market cap, enterprise value, enterprise value/revenue, enterprise value/EBITDA, financial data, entire balance sheet, entire cash flow statement, entire share statistics, entire dividends & splits values except the forward values. The variable to be predicted is the stock price. I would split the data into train and test sets. I would train the model with the train set and use the model to predict results for the test set. Then I would run accuracy analysis on the results and see how well the model performs. \nI would also rank each variable by their correlation to the price. Some graphs are plotted for visualization.\n"
        },
        {
            "cell_type": "code",
            "execution_count": null,
            "metadata": {
                "scrolled": true
            },
            "outputs": [],
            "source": "# import libraries\n!pip install yfinance\nimport yfinance as yf\nimport pandas as pd\nimport numpy as np"
        },
        {
            "cell_type": "code",
            "execution_count": null,
            "metadata": {},
            "outputs": [],
            "source": "# import more libraries\n!pip install bs4\nimport requests\nfrom bs4 import BeautifulSoup"
        },
        {
            "cell_type": "code",
            "execution_count": null,
            "metadata": {},
            "outputs": [],
            "source": "# website containing tickers of stocks in NASDAQ-100 for webscraping\nurl= \"https://en.wikipedia.org/wiki/Nasdaq-100\""
        },
        {
            "cell_type": "code",
            "execution_count": null,
            "metadata": {},
            "outputs": [],
            "source": "# scrape the website\nhtml_data= requests.get(url).text"
        },
        {
            "cell_type": "code",
            "execution_count": null,
            "metadata": {},
            "outputs": [],
            "source": "soup=BeautifulSoup(html_data,\"html5lib\")"
        },
        {
            "cell_type": "code",
            "execution_count": null,
            "metadata": {
                "scrolled": true
            },
            "outputs": [],
            "source": "# save the tickers in a list\nlist_of_tickers=[]\nfor x in range(1,408,4):\n    list_of_tickers.append(soup.find_all(\"tbody\")[3].find_all(\"td\")[x].text)\nprint(list_of_tickers)"
        },
        {
            "cell_type": "code",
            "execution_count": null,
            "metadata": {},
            "outputs": [],
            "source": "# let's have a look at what Apple ticker.info contains and choose the relevant keys into our analysis\nAAPL=yf.Ticker(\"AAPL\").info"
        },
        {
            "cell_type": "code",
            "execution_count": null,
            "metadata": {},
            "outputs": [],
            "source": "# input the relevant data from ticker.info into our Dataframe\nraw_data=pd.DataFrame()\nfor i in ['symbol',\n           'marketCap',\n           'enterpriseValue',\n           'enterpriseToRevenue',\n           'enterpriseToEbitda',\n           'profitMargins',\n           'trailingAnnualDividendYield',\n           'payoutRatio',\n           'averageDailyVolume10Day',\n           'trailingAnnualDividendRate',\n           'averageVolume',\n           'askSize',\n           'fiveYearAvgDividendYield',\n           'bidSize',\n           'dividendYield',\n           'sharesOutstanding',\n           'bookValue',\n           'sharesShort',\n           'sharesPercentSharesOut',\n           'netIncomeToCommon',\n           'trailingEps',\n           'lastDividendValue',\n           'shortRatio',\n           'floatShares',\n           'earningsQuarterlyGrowth',\n           'shortPercentOfFloat',\n           'sharesShortPriorMonth',\n           'heldPercentInstitutions',\n           'heldPercentInsiders']:\n    temporary_list=[]\n    for x in list_of_tickers[:2]:\n        if yf.Ticker(x).info[i]!= None:\n            temporary_list=temporary_list + [yf.Ticker(x).info[i]] \n        else:\n            temporary_list=temporary_list + [0]\n    raw_data[i]=temporary_list\nprint(raw_data)"
        },
        {
            "cell_type": "code",
            "execution_count": null,
            "metadata": {
                "scrolled": true
            },
            "outputs": [],
            "source": "raw_data=pd.DataFrame()\nfor x in list_of_tickers:\n    print(x)\n    raw_data[i]=yf.Ticker(x).info[i] for i in ['symbol',\n                                               'marketCap',\n                                               'enterpriseValue',\n                                               'enterpriseToRevenue',\n                                               'enterpriseToEbitda',\n                                               'profitMargins',\n                                               'trailingAnnualDividendYield',\n                                               'payoutRatio',\n                                               'averageDailyVolume10Day',\n                                               'trailingAnnualDividendRate',\n                                               'averageVolume',\n                                               'askSize',\n                                               'fiveYearAvgDividendYield',\n                                               'bidSize',\n                                               'dividendYield',\n                                               'sharesOutstanding',\n                                               'bookValue',\n                                               'sharesShort',\n                                               'sharesPercentSharesOut',\n                                               'netIncomeToCommon',\n                                               'trailingEps',\n                                               'lastDividendValue',\n                                               'shortRatio',\n                                               'floatShares',\n                                               'earningsQuarterlyGrowth',\n                                               'shortPercentOfFloat',\n                                               'sharesShortPriorMonth',\n                                               'heldPercentInstitutions',\n                                               'heldPercentInsiders']\nraw_data.set_index('symbol', inplace=True)\nprint(raw_data)"
        },
        {
            "cell_type": "code",
            "execution_count": null,
            "metadata": {},
            "outputs": [],
            "source": "yf.Ticker('AAPL').financials.iloc[:,0]"
        },
        {
            "cell_type": "code",
            "execution_count": null,
            "metadata": {},
            "outputs": [],
            "source": "raw_data=pd.DataFrame()\nfor i in ['Research Development',\n          'Income Before Tax',\n          'Net Income',\n          'Selling General Administrative',\n          'Gross Profit',\n          'Ebit',\n          'Operating Income',\n          'Interest expenses',\n          'Income Tax Expense',\n          'Total Revenue',\n          'Total Operating Expenses',\n          'Cost of Revenue',\n          'Total Other Income Expense Net',\n          'Net Income From Continuing Ops',\n          'Net Income Applicable To Common Shares']:\n    temporary_list=[]\n    for x in list_of_tickers[:2]:\n        if yf.Ticker(x).financials.iloc[:,0][i]!= None:\n            temporary_list=temporary_list + [yf.Ticker(x).financials.iloc[:,0].loc[i]] \n        else:\n            temporary_list=temporary_list + [0]\n    raw_data[i]=temporary_list\nprint(raw_data)"
        },
        {
            "cell_type": "code",
            "execution_count": null,
            "metadata": {},
            "outputs": [],
            "source": "yf.Ticker('AAPL').financials\nfor x in list_of_tickers:\n    raw_data[i]=yf.Ticker(x).financials.iloc[:,0].loc[i] for i in ['Research Development','Income Before Tax','Net Income','Selling General Administrative','Gross Profit','Ebit','Operating Income','Interest expenses','Income Tax Expense','Total Revenue', 'Total Operating Expenses','Cost of Revenue', 'Total Other Income Expense Net','Net Income From Continuing Ops','Net Income Applicable To Common Shares']\nprint(raw_data)"
        },
        {
            "cell_type": "code",
            "execution_count": null,
            "metadata": {},
            "outputs": [],
            "source": "yf.Ticker('AAPL').balance_sheet\nfor x in list_of_tickers:\n    raw_data[i]=yf.Ticker(x).balance_sheet.iloc[:,0].loc[i] for i in yf.Ticker(x).balance_sheet.index.tolist()"
        },
        {
            "cell_type": "code",
            "execution_count": null,
            "metadata": {},
            "outputs": [],
            "source": "yf.Ticker('AAPL').cashflow\nfor x in list_of_tickers:\n    raw_data[i]=yf.Ticker(x).cashflow.iloc[:,0].loc[i] for i in yf.Ticker(x).cashflow.index.tolist()\nprint(raw_data)"
        },
        {
            "cell_type": "code",
            "execution_count": null,
            "metadata": {},
            "outputs": [],
            "source": ""
        }
    ],
    "metadata": {
        "kernelspec": {
            "display_name": "Python 3",
            "language": "python",
            "name": "python3"
        },
        "language_info": {
            "codemirror_mode": {
                "name": "ipython",
                "version": 3
            },
            "file_extension": ".py",
            "mimetype": "text/x-python",
            "name": "python",
            "nbconvert_exporter": "python",
            "pygments_lexer": "ipython3",
            "version": "3.8.3"
        }
    },
    "nbformat": 4,
    "nbformat_minor": 1
}